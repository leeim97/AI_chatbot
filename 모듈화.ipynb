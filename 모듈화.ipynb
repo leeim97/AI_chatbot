{
 "cells": [
  {
   "cell_type": "markdown",
   "id": "8fead3a7-398e-451f-b809-5359abf5b1ee",
   "metadata": {},
   "source": [
    "make_user"
   ]
  },
  {
   "cell_type": "code",
   "execution_count": 1,
   "id": "b68b6011-d994-4cad-ba47-f9049367e634",
   "metadata": {},
   "outputs": [],
   "source": [
    "import streamlit as st\n",
    "\n",
    "class User():\n",
    "    def __init__(self):\n",
    "        if 'allergies' not in st.session_state:\n",
    "            st.session_state.allergies = ''\n",
    "        if 'user_food' not in st.session_state:\n",
    "            st.session_state.user_food = ''\n",
    "        self.allergies = st.session_state.allergies\n",
    "        self.user_food = st.session_state.user_food\n",
    "\n",
    "    def update(self, allergy, food):\n",
    "        self.allergies = allergy\n",
    "        self.user_food = food\n",
    "        st.session_state.allergies = allergy\n",
    "        st.session_state.user_food = food\n",
    "        # st.write('업데이트 완료')"
   ]
  },
  {
   "cell_type": "markdown",
   "id": "466f74c1-b7a5-4139-9a54-9bca5d4dd676",
   "metadata": {},
   "source": [
    "loader (데이터 로더 모듈)"
   ]
  },
  {
   "cell_type": "code",
   "execution_count": 4,
   "id": "5a76201e-b399-4194-be55-8343daa3ac92",
   "metadata": {},
   "outputs": [
    {
     "name": "stderr",
     "output_type": "stream",
     "text": [
      "2024-07-31 11:03:15.255 WARNING streamlit.runtime.caching.cache_data_api: No runtime found, using MemoryCacheStorageManager\n",
      "2024-07-31 11:03:15.257 WARNING streamlit.runtime.caching.cache_data_api: No runtime found, using MemoryCacheStorageManager\n",
      "2024-07-31 11:03:15.258 WARNING streamlit.runtime.caching.cache_data_api: No runtime found, using MemoryCacheStorageManager\n",
      "2024-07-31 11:03:15.259 WARNING streamlit.runtime.caching.cache_data_api: No runtime found, using MemoryCacheStorageManager\n",
      "2024-07-31 11:03:15.260 WARNING streamlit.runtime.caching.cache_data_api: No runtime found, using MemoryCacheStorageManager\n",
      "2024-07-31 11:03:15.261 WARNING streamlit.runtime.caching.cache_data_api: No runtime found, using MemoryCacheStorageManager\n",
      "2024-07-31 11:03:15.262 WARNING streamlit.runtime.caching.cache_data_api: No runtime found, using MemoryCacheStorageManager\n",
      "2024-07-31 11:03:15.262 WARNING streamlit.runtime.caching.cache_data_api: No runtime found, using MemoryCacheStorageManager\n"
     ]
    }
   ],
   "source": [
    "import pandas as pd\n",
    "from langchain_community.document_loaders.csv_loader import CSVLoader\n",
    "import streamlit as st\n",
    "\n",
    "\n",
    "@st.cache_data\n",
    "def loader_data(file_path):\n",
    "    loader = CSVLoader(file_path=file_path, encoding='utf-8')\n",
    "    data = loader.load()\n",
    "    return data\n",
    "@st.cache_data\n",
    "def recipe_data(file_path):\n",
    "    df = pd.read_csv(file_path)\n",
    "    return df\n",
    "\n",
    "@st.cache_data\n",
    "def ingredient_data(file_path):\n",
    "    df = pd.read_csv(file_path)\n",
    "    return df\n",
    "\n",
    "@st.cache_data\n",
    "def raw_material_data(file_path):\n",
    "    df = pd.read_csv(file_path)\n",
    "    return df\n",
    "\n",
    "@st.cache_data\n",
    "def processed_food_data(file_path):\n",
    "    df = pd.read_csv(file_path)\n",
    "    return df\n",
    "\n",
    "@st.cache_data\n",
    "def ing_name_data(file_path):\n",
    "    df = pd.read_csv(file_path)\n",
    "    return df\n",
    "\n",
    "@st.cache_data\n",
    "def oto_data(file_path):\n",
    "    df = pd.read_csv(file_path)\n",
    "    return df\n",
    "\n",
    "@st.cache_data\n",
    "def cross_data(file_path):\n",
    "    df = pd.read_csv(file_path)\n",
    "    return df"
   ]
  },
  {
   "cell_type": "markdown",
   "id": "151b5fcc-0f63-4446-926b-37581355838d",
   "metadata": {},
   "source": [
    "vecsto (벡터스토어에서 가져올수있는 모델 만들기)"
   ]
  },
  {
   "cell_type": "code",
   "execution_count": 6,
   "id": "16f18bc8-6702-42a1-92c2-d9dd240e8aa9",
   "metadata": {},
   "outputs": [],
   "source": [
    "from langchain.vectorstores import FAISS\n",
    "from langchain.embeddings import HuggingFaceEmbeddings\n",
    "from langchain.text_splitter import RecursiveCharacterTextSplitter\n",
    "from langchain_community.vectorstores.utils import DistanceStrategy\n",
    "\n",
    "def create_vectorstore(data):\n",
    "    text_splitter = RecursiveCharacterTextSplitter.from_tiktoken_encoder(\n",
    "        chunk_size=1000,\n",
    "        chunk_overlap=0,\n",
    "        encoding_name='cl100k_base'\n",
    "    )\n",
    "    documents = text_splitter.split_documents(data)\n",
    "    \n",
    "    \n",
    "    embeddings_model = HuggingFaceEmbeddings(\n",
    "        # model_name='jhgan/ko-sroberta-multitask',\n",
    "        # model_name='jhgan/ko-sbert-nli',\n",
    "        model_name='BM-K/KoSimCSE-RoBERTa-multitask',\n",
    "        model_kwargs={'device': 'cpu'},\n",
    "        encode_kwargs={'normalize_embeddings': True},\n",
    "    )\n",
    "    \n",
    "    # load db\n",
    "    vectorstore = FAISS.load_local('db', embeddings_model,\n",
    "                                   allow_dangerous_deserialization=True)\n",
    "    \n",
    "    \n",
    "    # 웹베이스 로더 추가 멀티체인\n",
    "    # Retrieval\n",
    "    # 요리명 일련번호 관련 벡터에서 찾기\n",
    "    retriever = vectorstore.as_retriever(\n",
    "        search_type='mmr',\n",
    "        search_kwargs={'k': 500, 'fetch_k': 800,'lambda_mult': 0.9}\n",
    "    )\n",
    "\n",
    "    return retriever"
   ]
  },
  {
   "cell_type": "markdown",
   "id": "2bf0b629-6b1f-400b-a9c0-7d2576774aaf",
   "metadata": {},
   "source": [
    "pre_chain"
   ]
  },
  {
   "cell_type": "code",
   "execution_count": 7,
   "id": "198e0b6c-242f-4a39-8251-cc58ee9628e6",
   "metadata": {},
   "outputs": [
    {
     "ename": "ImportError",
     "evalue": "cannot import name 'ChatOpenAI' from 'langchain.llms' (C:\\ProgramData\\anaconda3\\Lib\\site-packages\\langchain\\llms\\__init__.py)",
     "output_type": "error",
     "traceback": [
      "\u001b[1;31m---------------------------------------------------------------------------\u001b[0m",
      "\u001b[1;31mImportError\u001b[0m                               Traceback (most recent call last)",
      "Cell \u001b[1;32mIn[7], line 1\u001b[0m\n\u001b[1;32m----> 1\u001b[0m \u001b[38;5;28;01mfrom\u001b[39;00m \u001b[38;5;21;01mlangchain\u001b[39;00m\u001b[38;5;21;01m.\u001b[39;00m\u001b[38;5;21;01mllms\u001b[39;00m \u001b[38;5;28;01mimport\u001b[39;00m ChatOpenAI\n\u001b[0;32m      2\u001b[0m \u001b[38;5;28;01mfrom\u001b[39;00m \u001b[38;5;21;01mlangchain\u001b[39;00m\u001b[38;5;21;01m.\u001b[39;00m\u001b[38;5;21;01mprompts\u001b[39;00m \u001b[38;5;28;01mimport\u001b[39;00m ChatPromptTemplate\n\u001b[0;32m      4\u001b[0m \u001b[38;5;28;01mdef\u001b[39;00m \u001b[38;5;21mmakemodel\u001b[39m():\n",
      "\u001b[1;31mImportError\u001b[0m: cannot import name 'ChatOpenAI' from 'langchain.llms' (C:\\ProgramData\\anaconda3\\Lib\\site-packages\\langchain\\llms\\__init__.py)"
     ]
    }
   ],
   "source": [
    "from langchain.llms import ChatOpenAI\n",
    "from langchain.prompts import ChatPromptTemplate\n",
    "\n",
    "def makemodel():\n",
    "    ans = \"\"\" https://www.10000recipe.com/recipe/’’’insert here’’’\"\"\"\n",
    "    ans2 = \"\"\"{'name':’’’insert here’’’,'ingredients':’’’insert here’’’,'recipe':[’’’insert here’’’]}\"\"\"\n",
    "    ans3 = \"\"\"{'allergy':'''insert here''','food':'''insert here'''}\"\"\"\n",
    "\n",
    "    # Prompt\n",
    "    template3 = '''\n",
    "\n",
    "    Question : {question}\n",
    "    \n",
    "    \n",
    "    사용자가 알레르기와 요리명 정보를 전달할거야. 맞춤법은 고쳐줘.\n",
    "    만약 사용자의 알레르기 정보가 주어지면 알레르기를 리스트에서 참고해줘.\n",
    "    참고로 계란,달걀,반숙은 난류야.\n",
    "    ['소고기','난류','돼지고기','닭고기','새우','게','오징어','고등어','조개류','우유','땅콩',\n",
    "     '호두','잣','대두','복숭아','토마토','밀','메밀','아황산류']\n",
    "    꼭 알레르기와 질문은 분리해야해.\n",
    "    food에는 알레르기 성분들을 제외한 핵심적인 요리이름만 넣어줘!.\n",
    "    사용자가 알레르기 정보를 주지 않는다면 {prev_allergy}를 알레르기 정보로 사용해.\n",
    "    다른거 추천해달라하면 {prev_food}를 요리명에 넣어줘\n",
    "    쓸데없는 말 넣지말고 다음 형식을 따라서 대답해줘:\n",
    "    {ans3}\n",
    "    '''\n",
    "\n",
    "    template2 = ''' {site_document} 참고해서 요리제목, 재료, 레시피를 한국어로 알려줘.\n",
    "    \n",
    "    {ans2}\n",
    "    '''\n",
    "\n",
    "    template4 = '''\n",
    "            Extract and normalize the following list of ingredients according to these conditions:\n",
    "            1. Choose one when ingredients are connected with '또는', '~나', 'or' \n",
    "            2. Use the same name for similar ingredients.\n",
    "            3. Ensure the core ingredient remains.\n",
    "            4. Make sure the number of ingredients in the output is the same as in the input list of ingredients\n",
    "            5. Ensure that the input and output ingredients are in a 1:1 correspondence\n",
    "    \n",
    "            Provide a Dictionary in which original ingredient names are keys and normalized ingredient names are values.\n",
    "            Output must be korean\n",
    "            Just response Dictionary\n",
    "    \n",
    "            {ingredients}\n",
    "    \n",
    "    \n",
    "    '''\n",
    "    template__0 = '''\n",
    "    사용자에게 {allergy}가 없는 {user_food} 레시피 알려줘\n",
    "    '''\n",
    "\n",
    "    prompt2 = ChatPromptTemplate.from_template(template2)\n",
    "    prompt3 = ChatPromptTemplate.from_template(template3)\n",
    "    prompt4 = ChatPromptTemplate.from_template(template4)\n",
    "    prompt__0 = ChatPromptTemplate.from_template(template__0)\n",
    "\n",
    "    # Model\n",
    "    llm = ChatOpenAI(\n",
    "        model='gpt-3.5-turbo-0125',\n",
    "        temperature=0.6,\n",
    "        max_tokens=1000,\n",
    "    )\n",
    "    llm4 = ChatOpenAI(\n",
    "        model=\"gpt-4-turbo\",\n",
    "        temperature=0.2,\n",
    "        max_tokens=100,\n",
    "    )\n",
    "\n",
    "    return llm,llm4,prompt2,prompt3, prompt4, prompt__0"
   ]
  },
  {
   "cell_type": "markdown",
   "id": "c39c2208-8e71-4a3c-98de-69d1a9f4822b",
   "metadata": {},
   "source": [
    "findvector 벡터스토어에서 찾기"
   ]
  },
  {
   "cell_type": "code",
   "execution_count": 10,
   "id": "e9f3318f-b9dc-4231-b90d-32752427e41f",
   "metadata": {},
   "outputs": [],
   "source": [
    "from langchain.vectorstores import FAISS\n",
    "def find(retriever,user_food):\n",
    "    retriever.get_relevant_documents(query=user_food)"
   ]
  },
  {
   "cell_type": "markdown",
   "id": "cced8218-15a3-41bb-8985-001297be3b8b",
   "metadata": {},
   "source": [
    "webloader"
   ]
  },
  {
   "cell_type": "code",
   "execution_count": 11,
   "id": "96af19f2-0615-4bd7-9330-f178b96056d9",
   "metadata": {},
   "outputs": [
    {
     "name": "stderr",
     "output_type": "stream",
     "text": [
      "USER_AGENT environment variable not set, consider setting it to identify your requests.\n"
     ]
    }
   ],
   "source": [
    "from bs4 import BeautifulSoup as bs4\n",
    "from langchain.document_loaders import WebBaseLoader\n",
    "\n",
    "def webload(site):\n",
    "    loader = WebBaseLoader(\n",
    "        web_paths=(site,),\n",
    "        bs_kwargs=dict(\n",
    "            parse_only=bs4.SoupStrainer(\n",
    "                class_=(\"view2_summary_in\", \"ready_ingre3\", \"view_step\"),\n",
    "                id=('recipeIntro', 'divConfirmedMaterialArea', 'obx_recipe_step_start',)\n",
    "            )\n",
    "        ),\n",
    "    )\n",
    "    site_document = loader.load()\n",
    "    return site_document"
   ]
  },
  {
   "cell_type": "markdown",
   "id": "9703f14d-969e-4ff2-adf8-31639fb81275",
   "metadata": {},
   "source": []
  },
  {
   "cell_type": "code",
   "execution_count": null,
   "id": "11b5f8d3-c632-400f-a6c7-1ce5aa877631",
   "metadata": {},
   "outputs": [],
   "source": []
  },
  {
   "cell_type": "markdown",
   "id": "9e203fab-8ebc-4f8c-bdeb-162973b0cf1f",
   "metadata": {},
   "source": []
  },
  {
   "cell_type": "code",
   "execution_count": null,
   "id": "80864833-27db-4530-b3cd-d4fd17a12139",
   "metadata": {},
   "outputs": [],
   "source": []
  }
 ],
 "metadata": {
  "kernelspec": {
   "display_name": "Python 3 (ipykernel)",
   "language": "python",
   "name": "python3"
  },
  "language_info": {
   "codemirror_mode": {
    "name": "ipython",
    "version": 3
   },
   "file_extension": ".py",
   "mimetype": "text/x-python",
   "name": "python",
   "nbconvert_exporter": "python",
   "pygments_lexer": "ipython3",
   "version": "3.11.7"
  }
 },
 "nbformat": 4,
 "nbformat_minor": 5
}
