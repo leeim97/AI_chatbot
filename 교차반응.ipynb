{
 "cells": [
  {
   "cell_type": "code",
   "execution_count": 2,
   "id": "4ce23ea4-d2f8-4f1c-ad67-cb365b4c0444",
   "metadata": {},
   "outputs": [],
   "source": [
    "import numpy as np\n",
    "import pandas as pd"
   ]
  },
  {
   "cell_type": "code",
   "execution_count": 3,
   "id": "90633f40-f8e0-4d59-b598-ac8f1639560f",
   "metadata": {},
   "outputs": [],
   "source": [
    "allergy_food = [\n",
    "    '난류(가금류)', '소고기','돼지고기','닭고기','새우','게','오징어','고등어','조개류',\n",
    "    '우유','땅콩','호두','잣','대두','복숭아','토마토','밀','메밀','아황산류']"
   ]
  },
  {
   "cell_type": "code",
   "execution_count": 4,
   "id": "1f9b6478-2c18-416f-9c9c-9e1372888717",
   "metadata": {},
   "outputs": [
    {
     "data": {
      "text/plain": [
       "19"
      ]
     },
     "execution_count": 4,
     "metadata": {},
     "output_type": "execute_result"
    }
   ],
   "source": [
    "len(allergy_food)"
   ]
  },
  {
   "cell_type": "code",
   "execution_count": 5,
   "id": "8836a048-b9d5-45be-96e2-8c3a4524c6bb",
   "metadata": {},
   "outputs": [],
   "source": [
    "난류 = ['우유','참깨']\n",
    "소고기 = ['닭고기', '돼지고기']\n",
    "돼지고기 = ['닭고기','소고기']\n",
    "닭고기 = ['돼지고기','소고기']\n",
    "새우 = ['꽃게','바닷가재']\n",
    "게 = ['굴','새우','오징어']\n",
    "오징어 = ['전복','송이버섯']\n",
    "고등어 = ['연어','전복']\n",
    "조개류 = ['새우', '게','굴','오징어'] # 지피티\n",
    "우유 = ['돼지고기','염소젖','말젖']\n",
    "땅콩 = ['완두콩','렌즈콩','대두']\n",
    "호두 = ['브라질너트','캐슈넛','헤이즐넛']\n",
    "잣 = ['호두','아몬드'] # 지피티\n",
    "대두 = ['땅콩','녹두','강낭콩'] # 지피\n",
    "복숭아 = ['사과','자두','체리','배']\n",
    "토마토 = ['땅콩','호밀풀','디모데','사과','셀러리','유액','쑥','감자']\n",
    "밀 = ['호밀','보리']\n",
    "메밀 = ['참깨','밀'] #지피티\n",
    "아황산류 = ['건포도','백포도주'] #지피티"
   ]
  },
  {
   "cell_type": "code",
   "execution_count": null,
   "id": "9fc4b3f9-7937-46c6-945d-fc4204a2019f",
   "metadata": {},
   "outputs": [],
   "source": []
  }
 ],
 "metadata": {
  "kernelspec": {
   "display_name": "Python 3 (ipykernel)",
   "language": "python",
   "name": "python3"
  },
  "language_info": {
   "codemirror_mode": {
    "name": "ipython",
    "version": 3
   },
   "file_extension": ".py",
   "mimetype": "text/x-python",
   "name": "python",
   "nbconvert_exporter": "python",
   "pygments_lexer": "ipython3",
   "version": "3.11.7"
  }
 },
 "nbformat": 4,
 "nbformat_minor": 5
}
